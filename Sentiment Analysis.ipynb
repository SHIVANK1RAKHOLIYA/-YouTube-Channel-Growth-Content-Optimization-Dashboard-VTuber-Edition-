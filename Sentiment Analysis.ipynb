{
 "cells": [
  {
   "cell_type": "code",
   "execution_count": 3,
   "id": "66c8adb5-1b4d-4d9d-a21d-b5c5bf1cf7cd",
   "metadata": {},
   "outputs": [
    {
     "name": "stdout",
     "output_type": "stream",
     "text": [
      "Requirement already satisfied: scikit-learn in c:\\users\\shrut\\appdata\\local\\programs\\python\\python310\\lib\\site-packages (1.6.1)\n",
      "Requirement already satisfied: numpy>=1.19.5 in c:\\users\\shrut\\appdata\\local\\programs\\python\\python310\\lib\\site-packages (from scikit-learn) (2.1.3)\n",
      "Requirement already satisfied: scipy>=1.6.0 in c:\\users\\shrut\\appdata\\local\\programs\\python\\python310\\lib\\site-packages (from scikit-learn) (1.15.3)\n",
      "Requirement already satisfied: joblib>=1.2.0 in c:\\users\\shrut\\appdata\\local\\programs\\python\\python310\\lib\\site-packages (from scikit-learn) (1.5.0)\n",
      "Requirement already satisfied: threadpoolctl>=3.1.0 in c:\\users\\shrut\\appdata\\local\\programs\\python\\python310\\lib\\site-packages (from scikit-learn) (3.6.0)\n"
     ]
    }
   ],
   "source": [
    "!pip install scikit-learn"
   ]
  },
  {
   "cell_type": "code",
   "execution_count": 4,
   "id": "b7954622-46f5-4f28-9ee6-9c8b76b392e2",
   "metadata": {},
   "outputs": [
    {
     "name": "stderr",
     "output_type": "stream",
     "text": [
      "[nltk_data] Downloading package punkt to\n",
      "[nltk_data]     C:\\Users\\shrut\\AppData\\Roaming\\nltk_data...\n",
      "[nltk_data]   Package punkt is already up-to-date!\n",
      "[nltk_data] Downloading package stopwords to\n",
      "[nltk_data]     C:\\Users\\shrut\\AppData\\Roaming\\nltk_data...\n",
      "[nltk_data]   Package stopwords is already up-to-date!\n"
     ]
    },
    {
     "name": "stdout",
     "output_type": "stream",
     "text": [
      "Classification Report:\n",
      "               precision    recall  f1-score   support\n",
      "\n",
      "    negative       0.83      0.73      0.78       401\n",
      "    positive       0.76      0.85      0.80       399\n",
      "\n",
      "    accuracy                           0.79       800\n",
      "   macro avg       0.80      0.79      0.79       800\n",
      "weighted avg       0.80      0.79      0.79       800\n",
      "\n",
      "✅ Saved to weekly_sentiment_trend.csv\n"
     ]
    }
   ],
   "source": [
    "import pandas as pd\n",
    "import string\n",
    "import re\n",
    "from textblob import TextBlob\n",
    "from nltk.corpus import stopwords\n",
    "from nltk.tokenize import word_tokenize\n",
    "from sklearn.feature_extraction.text import TfidfVectorizer\n",
    "from sklearn.naive_bayes import MultinomialNB  # or use SVM if preferred\n",
    "from sklearn.model_selection import train_test_split\n",
    "from sklearn.metrics import classification_report\n",
    "\n",
    "import nltk\n",
    "nltk.download(\"punkt\")\n",
    "nltk.download(\"stopwords\")\n",
    "\n",
    "# Load comments\n",
    "df = pd.read_csv(\"comments_data.csv\")\n",
    "df[\"timestamp\"] = pd.to_datetime(df[\"timestamp\"])\n",
    "df[\"week\"] = df[\"timestamp\"].dt.isocalendar().week\n",
    "\n",
    "# --- Step 1: Preprocess text ---\n",
    "stop_words = set(stopwords.words(\"english\"))\n",
    "\n",
    "def clean_text(text):\n",
    "    text = text.lower()\n",
    "    text = re.sub(r\"http\\S+|www\\S+|[^a-zA-Z\\s]\", '', text)  # remove URLs, punctuation\n",
    "    tokens = word_tokenize(text)\n",
    "    return ' '.join([word for word in tokens if word not in stop_words])\n",
    "\n",
    "df[\"cleaned_text\"] = df[\"comment_text\"].apply(clean_text)\n",
    "\n",
    "# --- Step 2: Use TextBlob for pseudo-labeling ---\n",
    "def get_sentiment(text):\n",
    "    return \"positive\" if TextBlob(text).sentiment.polarity > 0 else \"negative\"\n",
    "\n",
    "df[\"sentiment\"] = df[\"comment_text\"].apply(get_sentiment)\n",
    "\n",
    "# --- Step 3: Vectorize using TF-IDF ---\n",
    "X = df[\"cleaned_text\"]\n",
    "y = df[\"sentiment\"]\n",
    "\n",
    "vectorizer = TfidfVectorizer(max_features=5000)\n",
    "X_vect = vectorizer.fit_transform(X)\n",
    "\n",
    "# --- Step 4: Train Classifier ---\n",
    "X_train, X_test, y_train, y_test = train_test_split(X_vect, y, test_size=0.2, random_state=42)\n",
    "\n",
    "# Choose one:\n",
    "model = MultinomialNB()\n",
    "# from sklearn.svm import SVC; model = SVC(kernel=\"linear\")\n",
    "\n",
    "model.fit(X_train, y_train)\n",
    "y_pred = model.predict(X_test)\n",
    "\n",
    "print(\"Classification Report:\\n\", classification_report(y_test, y_pred))\n",
    "\n",
    "# --- Step 5: Predict all comments ---\n",
    "df[\"predicted_sentiment\"] = model.predict(vectorizer.transform(df[\"cleaned_text\"]))\n",
    "\n",
    "# --- Step 6: Weekly sentiment trend per channel ---\n",
    "trend = df.groupby([\"channel_id\", \"week\", \"predicted_sentiment\"]).size().unstack(fill_value=0)\n",
    "trend[\"total\"] = trend.sum(axis=1)\n",
    "trend[\"positive_pct\"] = (trend.get(\"positive\", 0) / trend[\"total\"]) * 100\n",
    "trend[\"negative_pct\"] = (trend.get(\"negative\", 0) / trend[\"total\"]) * 100\n",
    "\n",
    "# Save to CSV\n",
    "trend.reset_index().to_csv(\"weekly_sentiment_trend.csv\", index=False)\n",
    "print(\"✅ Saved to weekly_sentiment_trend.csv\")\n"
   ]
  },
  {
   "cell_type": "code",
   "execution_count": null,
   "id": "dc55bc19-4803-4186-8a51-2ae59ca5023a",
   "metadata": {},
   "outputs": [],
   "source": []
  },
  {
   "cell_type": "code",
   "execution_count": null,
   "id": "3cc7a065-b167-4205-a704-91e7576fea9b",
   "metadata": {},
   "outputs": [],
   "source": []
  },
  {
   "cell_type": "code",
   "execution_count": null,
   "id": "30333a74-5818-411f-a7f1-d2bd4fcbe737",
   "metadata": {},
   "outputs": [],
   "source": []
  }
 ],
 "metadata": {
  "kernelspec": {
   "display_name": "Python 3 (ipykernel)",
   "language": "python",
   "name": "python3"
  },
  "language_info": {
   "codemirror_mode": {
    "name": "ipython",
    "version": 3
   },
   "file_extension": ".py",
   "mimetype": "text/x-python",
   "name": "python",
   "nbconvert_exporter": "python",
   "pygments_lexer": "ipython3",
   "version": "3.13.2"
  }
 },
 "nbformat": 4,
 "nbformat_minor": 5
}
