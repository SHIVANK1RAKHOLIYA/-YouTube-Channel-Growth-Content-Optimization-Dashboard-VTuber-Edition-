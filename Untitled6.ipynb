{
 "cells": [
  {
   "cell_type": "code",
   "execution_count": null,
   "id": "a15ae3d8-8122-482a-b1b8-0565412385c6",
   "metadata": {},
   "outputs": [],
   "source": [
    "import pandas as pd\n",
    "import string\n",
    "import re\n",
    "from nltk.corpus import stopwords\n",
    "from nltk.tokenize import word_tokenize\n",
    "from collections import Counter\n",
    "import nltk\n",
    "\n",
    "# Download NLTK resources (run once)\n",
    "nltk.download('stopwords')\n",
    "nltk.download('punkt')\n",
    "\n",
    "# Load your comments data\n",
    "df = pd.read_csv(\"comments_data_updated.csv\")\n",
    "\n",
    "stop_words = set(stopwords.words(\"english\"))\n",
    "\n",
    "# Preprocess comment text\n",
    "def preprocess(text):\n",
    "    text = text.lower()\n",
    "    text = re.sub(r\"http\\S+\", \"\", text)\n",
    "    text = text.translate(str.maketrans('', '', string.punctuation))\n",
    "    tokens = word_tokenize(text)\n",
    "    return [w for w in tokens if w.isalpha() and w not in stop_words]\n",
    "\n",
    "df[\"tokens\"] = df[\"comment_text\"].apply(preprocess)\n",
    "\n",
    "# Count most common words by sentiment\n",
    "positive_words = df[df[\"sentiment\"] == \"positive\"][\"tokens\"].explode()\n",
    "negative_words = df[df[\"sentiment\"] == \"negative\"][\"tokens\"].explode()\n",
    "\n",
    "pos_freq = Counter(positive_words)\n",
    "neg_freq = Counter(negative_words)\n",
    "\n",
    "# Create final DataFrame\n",
    "word_data = []\n",
    "\n",
    "for word, count in pos_freq.most_common(100):\n",
    "    word_data.append({\"word\": word, \"frequency\": count, \"sentiment\": \"positive\"})\n",
    "\n",
    "for word, count in neg_freq.most_common(100):\n",
    "    word_data.append({\"word\": word, \"frequency\": count, \"sentiment\": \"negative\"})\n",
    "\n",
    "word_df = pd.DataFrame(word_data)\n",
    "word_df.to_csv(\"sentiment_wordcloud.csv\", index=False)\n",
    "print(\"✅ Saved as sentiment_wordcloud.csv\")"
   ]
  },
  {
   "cell_type": "code",
   "execution_count": null,
   "id": "55d5dd6c-5c21-4fcf-a4d7-8df4c2e00fe5",
   "metadata": {},
   "outputs": [],
   "source": []
  }
 ],
 "metadata": {
  "kernelspec": {
   "display_name": "Python 3 (ipykernel)",
   "language": "python",
   "name": "python3"
  },
  "language_info": {
   "codemirror_mode": {
    "name": "ipython",
    "version": 3
   },
   "file_extension": ".py",
   "mimetype": "text/x-python",
   "name": "python",
   "nbconvert_exporter": "python",
   "pygments_lexer": "ipython3",
   "version": "3.13.2"
  }
 },
 "nbformat": 4,
 "nbformat_minor": 5
}
